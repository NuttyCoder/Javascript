{
  "nbformat": 4,
  "nbformat_minor": 0,
  "metadata": {
    "colab": {
      "provenance": []
    },
    "kernelspec": {
      "name": "python3",
      "display_name": "Python 3"
    },
    "language_info": {
      "name": "python"
    }
  },
  "cells": [
    {
      "cell_type": "code",
      "execution_count": null,
      "metadata": {
        "id": "wS-48QTPcPW8"
      },
      "outputs": [],
      "source": []
    },
    {
      "cell_type": "markdown",
      "source": [
        "# 1. **Variable Declaration**\n",
        "Understandiong the difference between `var`, `let`, and `const` is essential for writin reliable and maintainable JS Code.\n",
        "\n",
        "var is function-scoped and prone to issuses like hoisting, which can lead to unexpected bugs.\n",
        "\n",
        "What is hoisting?\n",
        "Hoisting is the behavior where variable and function declarations are moved to the top of their respective scope during the compilation phase, before the code is actually executed.\n",
        "This means that you can use the variables and functions in your code before they are actually declared in the code.\n",
        "\n",
        "Here's a breakdown of how hoisting works with different types of declarations:\n",
        "\n",
        "**Variable hoisting:**\n",
        "`var` declarations: When you declare a varaible with `var`, the declaration is hoisted to the top of the scope, but the initialization (the assignment of a value) is not. This means  you can access the variable before it's declared in the code, but it's value will be `undefined`."
      ],
      "metadata": {
        "id": "XFe8knq4ckO2"
      }
    },
    {
      "cell_type": "code",
      "source": [
        "concole.log(x); // Output: undefined\n",
        "var x = 10;\n",
        "console.log(x); // Output: 10\n"
      ],
      "metadata": {
        "id": "d3NBPClWc1fe"
      },
      "execution_count": null,
      "outputs": []
    },
    {
      "cell_type": "markdown",
      "source": [
        "`let`and `const`**declarations:**Variables declared with `let `and `const` are also hgoised, but they are not initialized. Accessing the before their declaration results in a `ReferenceError`. This is known as the **\"temporal dead zone\"**.\n",
        "\n",
        "\n",
        "\n"
      ],
      "metadata": {
        "id": "spSVBc_Ok6gl"
      }
    },
    {
      "cell_type": "code",
      "source": [
        "console.log(y); // Output: ReferenceError: Cannot access 'y' before initialization\n",
        "let y = 20;\n",
        "console.log(y); // Output:20"
      ],
      "metadata": {
        "id": "cZ8uOQWsl0fd"
      },
      "execution_count": null,
      "outputs": []
    },
    {
      "cell_type": "markdown",
      "source": [
        "Function hoisting:\n",
        "\n",
        "**Function declarations:** Function declarations are fully hoisted. meaning both the declaration and the definition are moved to the top of the scope. This allows you to call a function before it's defined in the code."
      ],
      "metadata": {
        "id": "wNezRs8nmH3c"
      }
    },
    {
      "cell_type": "code",
      "source": [
        "greet(); // Output: Hello, World!\n",
        "\n",
        "function greet() {\n",
        "  console.log(\"Hello, World!\");\n",
        "}"
      ],
      "metadata": {
        "id": "uaMekqD1mniU"
      },
      "execution_count": null,
      "outputs": []
    },
    {
      "cell_type": "markdown",
      "source": [
        "**Function expressions:** Function expressions(when a function is assigned to a variable) are hoisted like variables. If you use `var`, the variable is hoisted but the function definition is not, so you;ll get an error if you try to call the function before the definition. If you use `let` or `const`, you'll get a `ReferenceError` due to the temporal dead zone.\n",
        "\n",
        "\n",
        "\n",
        "*   Hoisting is a Javascript mechanism that moves declarations to the top of their scope before code execution.\n",
        "*  `var` declarations are hoisted and initialized to `undefined`.\n",
        "\n",
        "\n",
        "\n",
        "*   `let` and `const` declarations are hoisted but not initialized, resulting in a `ReferenceError` if accessed before declaration.\n",
        "*   Function declarations are fully hoisted, allowing you to call them before they appear in the code.\n",
        "\n",
        "\n",
        "*   Function expressions behave like variable declarations in terms of hoisting.\n",
        "\n",
        "> Understanding hoisting is important for writing \"clean and predictable\" Javascript code. It's generally recommended to declare your variables and functions at the top of their scope to avoid unexpected behavior and improve code readability.\n",
        "\n",
        "\n",
        "\n",
        "\n",
        "\n",
        "\n"
      ],
      "metadata": {
        "id": "xm5uDC-0m-FN"
      }
    }
  ]
}